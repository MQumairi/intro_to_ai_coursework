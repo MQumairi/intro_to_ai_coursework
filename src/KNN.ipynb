{
 "metadata": {
  "language_info": {
   "codemirror_mode": {
    "name": "ipython",
    "version": 3
   },
   "file_extension": ".py",
   "mimetype": "text/x-python",
   "name": "python",
   "nbconvert_exporter": "python",
   "pygments_lexer": "ipython3",
   "version": "3.8.3-final"
  },
  "orig_nbformat": 2,
  "kernelspec": {
   "name": "python3",
   "display_name": "Python 3"
  }
 },
 "nbformat": 4,
 "nbformat_minor": 2,
 "cells": [
  {
   "source": [
    "# K Nearest Neighbor \n",
    "\n",
    "## Research Question: \n",
    "#### Predict whether a stop and search would conclude in police action.\n",
    "\n",
    "#### In this notebook we attempt to answer the research question using the K nearest neighbor model (KNN). The goal is to classify the data by police action, given the features in our data set (https://www.kaggle.com/sohier/london-police-records?select=london-stop-and-search.csv)"
   ],
   "cell_type": "markdown",
   "metadata": {}
  },
  {
   "source": [
    "We import the libraries"
   ],
   "cell_type": "markdown",
   "metadata": {}
  },
  {
   "cell_type": "code",
   "execution_count": 5,
   "metadata": {},
   "outputs": [],
   "source": [
    "import pandas as pd"
   ]
  },
  {
   "source": [
    "We import the dataset. It is \"london-stop-and-search.csv\", retrieved from Kaggle (https://www.kaggle.com/sohier/london-police-records?select=london-stop-and-search.csv), then cleaned by having some columns removed (\"part of police operation\", \"police operation\", and \"self-defined ethnicity\")."
   ],
   "cell_type": "markdown",
   "metadata": {}
  },
  {
   "cell_type": "code",
   "execution_count": 10,
   "metadata": {},
   "outputs": [
    {
     "output_type": "stream",
     "name": "stdout",
     "text": [
      "<class 'pandas.core.frame.DataFrame'>\nRangeIndex: 302623 entries, 0 to 302622\nData columns (total 12 columns):\n #   Column                                    Non-Null Count   Dtype  \n---  ------                                    --------------   -----  \n 0   Type                                      302623 non-null  object \n 1   Date                                      302623 non-null  object \n 2   Latitude                                  110615 non-null  float64\n 3   Longitude                                 110615 non-null  float64\n 4   Gender                                    299453 non-null  object \n 5   Age range                                 288579 non-null  object \n 6   Officer-defined ethnicity                 298958 non-null  object \n 7   Legislation                               302623 non-null  object \n 8   Object of search                          216156 non-null  object \n 9   Outcome linked to object of search        1206 non-null    object \n 10  Removal of more than just outer clothing  2789 non-null    object \n 11  Outcome                                   302623 non-null  object \ndtypes: float64(2), object(10)\nmemory usage: 27.7+ MB\nNone\n"
     ]
    }
   ],
   "source": [
    "data = pd.read_csv(\"data.csv\")\n",
    "print(data.info())\n"
   ]
  },
  {
   "source": [
    "The columns \"Type\", \"Date\", \"Gender\", \"Age Range\", \"Officer-defined Ethnicity\", \"Legislation\", \"Object of Search\", and \"Outcome\" are type object. So null values for those columns cannot be replaced by a mean. However, Latitude and Longitude are floats, so we will replace null values with the mean."
   ],
   "cell_type": "markdown",
   "metadata": {}
  },
  {
   "cell_type": "code",
   "execution_count": null,
   "metadata": {},
   "outputs": [],
   "source": []
  }
 ]
}