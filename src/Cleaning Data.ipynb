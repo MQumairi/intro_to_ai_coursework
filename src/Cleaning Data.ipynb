{
 "metadata": {
  "language_info": {
   "codemirror_mode": {
    "name": "ipython",
    "version": 3
   },
   "file_extension": ".py",
   "mimetype": "text/x-python",
   "name": "python",
   "nbconvert_exporter": "python",
   "pygments_lexer": "ipython3",
   "version": "3.8.3-final"
  },
  "orig_nbformat": 2,
  "kernelspec": {
   "name": "python3",
   "display_name": "Python 3"
  }
 },
 "nbformat": 4,
 "nbformat_minor": 2,
 "cells": [
  {
   "source": [
    "\n",
    "## Research Question: \"Predict whether a stop and search will conclude in police action\".\n",
    "\n",
    "#### In this notebook we attempt to answer the research question using the data set (https://www.kaggle.com/sohier/london-police-records?select=london-stop-and-search.csv). First we clean the data from null values."
   ],
   "cell_type": "markdown",
   "metadata": {}
  },
  {
   "source": [
    "We import the libraries"
   ],
   "cell_type": "markdown",
   "metadata": {}
  },
  {
   "cell_type": "code",
   "execution_count": 1,
   "metadata": {},
   "outputs": [],
   "source": [
    "import pandas as pd\n",
    "from sklearn.preprocessing import LabelEncoder\n"
   ]
  },
  {
   "source": [
    "We import the dataset. It is \"london-stop-and-search.csv\", retrieved from Kaggle (https://www.kaggle.com/sohier/london-police-records?select=london-stop-and-search.csv), then cleaned by having some columns removed (\"part of police operation\", \"police operation\", and \"self-defined ethnicity\")."
   ],
   "cell_type": "markdown",
   "metadata": {}
  },
  {
   "cell_type": "code",
   "execution_count": 3,
   "metadata": {},
   "outputs": [
    {
     "output_type": "stream",
     "name": "stdout",
     "text": [
      "<class 'pandas.core.frame.DataFrame'>\nRangeIndex: 302623 entries, 0 to 302622\nData columns (total 10 columns):\n #   Column                     Non-Null Count   Dtype  \n---  ------                     --------------   -----  \n 0   Type                       302623 non-null  object \n 1   Date                       302623 non-null  object \n 2   Latitude                   110615 non-null  float64\n 3   Longitude                  110615 non-null  float64\n 4   Gender                     299453 non-null  object \n 5   Age range                  288579 non-null  object \n 6   Officer-defined ethnicity  298958 non-null  object \n 7   Legislation                302623 non-null  object \n 8   Object of search           216156 non-null  object \n 9   Outcome                    302623 non-null  object \ndtypes: float64(2), object(8)\nmemory usage: 23.1+ MB\nNone\n"
     ]
    }
   ],
   "source": [
    "data = pd.read_csv(\"data.csv\")\n",
    "\n",
    "# Programatically remove the columns: \n",
    "#   - \"Outcome linked to object of search\"\n",
    "#   - \"Removal of more than just outer clothing\". \n",
    "\n",
    "# Reason: too many nulls. For the former, not something that is relevant before the police action- so irrelevant to research question.\n",
    "# TODO: discuss wether the csv file needs to be modified to reflect this.\n",
    "\n",
    "# We delete the columns using the \"del\" keyword\n",
    "del data[\"Outcome linked to object of search\"]\n",
    "del data[\"Removal of more than just outer clothing\"]\n",
    "\n",
    "# We print information about our data object (the csv file), which displays the number of non-empty (\"non-Null\") values for each column, as well as the types associated with their non-null values.\n",
    "print(data.info())\n"
   ]
  },
  {
   "source": [
    "Columns for this dataset are either numerical (e.g. \"Latitude\") or categorical (e.g. \"Gender\", describing a category of things). \n",
    "\n",
    "For categorical columns, we can't calculate medians (how would we calculate a median for a series of string values!?), but we can do so for our numerical columns. Specifically, the two nmerical columns are Latitude and Longitude. \n",
    "\n",
    "Furthermore, we can convert all values under \"Date\" to type DateTime using pd.to_datetime.\n",
    "\n",
    "Finally, we drop all rows with empty values for the remaining columns using .dropna(), as we are unable to replace them with a median."
   ],
   "cell_type": "markdown",
   "metadata": {}
  },
  {
   "cell_type": "code",
   "execution_count": 4,
   "metadata": {},
   "outputs": [
    {
     "output_type": "stream",
     "name": "stdout",
     "text": [
      "<class 'pandas.core.frame.DataFrame'>\nInt64Index: 165651 entries, 0 to 302621\nData columns (total 10 columns):\n #   Column                     Non-Null Count   Dtype              \n---  ------                     --------------   -----              \n 0   Type                       165651 non-null  object             \n 1   Date                       165651 non-null  datetime64[ns, UTC]\n 2   Latitude                   165651 non-null  float64            \n 3   Longitude                  165651 non-null  float64            \n 4   Gender                     165651 non-null  object             \n 5   Age range                  165651 non-null  object             \n 6   Officer-defined ethnicity  165651 non-null  object             \n 7   Legislation                165651 non-null  object             \n 8   Object of search           165651 non-null  object             \n 9   Outcome                    165651 non-null  object             \ndtypes: datetime64[ns, UTC](1), float64(2), object(7)\nmemory usage: 13.9+ MB\nNone\n"
     ]
    }
   ],
   "source": [
    "#Convert latitude and longitude nulls to median\n",
    "lat_median = data[\"Latitude\"].median()\n",
    "lon_median = data[\"Longitude\"].median()\n",
    "\n",
    "data[\"Latitude\"] = data[\"Latitude\"].fillna(lat_median)\n",
    "data[\"Longitude\"] = data[\"Longitude\"].fillna(lon_median)\n",
    "\n",
    "#Change the \"Date\" column to type DateTime\n",
    "data['Date'] = pd.to_datetime(data['Date'])\n",
    "\n",
    "# Some of the values for \"Age range\" have an inexplicable value of \"Oct-17\"... those will be removed as well. We replace them with \"None\" for the time being, so that they're sweeped alongside any null values when we call dropna().\n",
    "# Reference for dictionary idea to replace values: https://stackoverflow.com/questions/17114904/python-pandas-replacing-strings-in-dataframe-with-numbers\n",
    "oct17_to_None = {\"Oct-17\": None}\n",
    "data = data.applymap(lambda s: oct17_to_None.get(s) if s in oct17_to_None else s)\n",
    "\n",
    "#For the other columns, we'll need to drop the null values \n",
    "data = data.dropna()\n",
    "\n",
    "#Let's print data.info again to see the changes\n",
    "print(data.info())\n",
    "\n",
    "#Notice: for each column, the number of non-null rows is equal to the number of rows in the table (165,651). Hence, no column has empty values under it.\n",
    "#Noitce: the type of Date is now datetime64[ns, UTC]"
   ]
  },
  {
   "source": [
    "## Encoding data \n",
    "\n",
    "Most sklearn functions don't expect string values. Unfortunately our dataset is filled with those. We need to therefore encode them into numerical types. Below, we build on the method outlined in ex5Part2 (Lab 5 of Introduction to AI module), using LabelEncoder from sklearn, to automatically encode our strings into numerals.\n",
    "\n",
    "Our process will proceed as follows:\n",
    "\n",
    "1. We build a dictionary to store an instance of LabelEncoder for each 'categorical column' (the seven labels assigned as a list to the variable \"categorical_cols\" below). We exclude any numerical columns (i.e. Date, Latitude, and Longitude) because those don't need to be encoded.\n",
    "2. We iterate over the columns in our dataset. For each categorical column, we instantiate a corresponding encoder of type LabelEncoder(). The goal is to be able to access the specific encoder used to encode a particular column, thus allowing us to see the original string values (using encoder.classes_), and map them to the encoded number. This benefit will be made clearer in the 'Encoder Mapper' below.\n",
    "3. We copy our dataset \"data\", into a variable \"data_encoded\". We will replace the categorical values of \"data_encoded\" with the encoded numerals, and leave the cleaned dataset of strings (\"data\") untouched. May prove to be useful later.\n",
    "4. Finally, we iterate over the columns in \"data_encoded\", and transform all strings to an appropriate numeral, using the corresponding encoder in the \"encoders\" dictionary, as shown in lab 5."
   ],
   "cell_type": "markdown",
   "metadata": {}
  },
  {
   "cell_type": "code",
   "execution_count": 7,
   "metadata": {},
   "outputs": [
    {
     "output_type": "stream",
     "name": "stdout",
     "text": [
      "{'Type Encoder': LabelEncoder(), 'Gender Encoder': LabelEncoder(), 'Age range Encoder': LabelEncoder(), 'Officer-defined ethnicity Encoder': LabelEncoder(), 'Legislation Encoder': LabelEncoder(), 'Object of search Encoder': LabelEncoder(), 'Outcome Encoder': LabelEncoder()}\n"
     ]
    }
   ],
   "source": [
    "#Build a dictionary of Encoders\n",
    "encoders = {}\n",
    "\n",
    "#List the categorical cols\n",
    "categorical_cols = [\"Type\", \"Gender\", \"Age range\", \"Officer-defined ethnicity\", \"Legislation\", \"Object of search\", \"Outcome\"]\n",
    "\n",
    "#Build an encoder for each categorical_col, and fit it to the values under that column\n",
    "for label in categorical_cols:\n",
    "    encoders[f\"{label} Encoder\"] = LabelEncoder()\n",
    "    encoders[f\"{label} Encoder\"].fit(data[label])\n",
    "\n",
    "#Our dictionary of encoders now has seven encoders, fitted to the categorical values in \"data\"\n",
    "print(encoders)"
   ]
  },
  {
   "cell_type": "code",
   "execution_count": 10,
   "metadata": {},
   "outputs": [
    {
     "output_type": "stream",
     "name": "stdout",
     "text": [
      "Encoder dictionary for the column 'Type':\n'Person and Vehicle search' will be encoded to '0'\n'Person search' will be encoded to '1'\n'Vehicle search' will be encoded to '2'\n\n\nEncoder dictionary for the column 'Gender':\n'Female' will be encoded to '0'\n'Male' will be encoded to '1'\n'Other' will be encoded to '2'\n\n\nEncoder dictionary for the column 'Age range':\n'18-24' will be encoded to '0'\n'25-34' will be encoded to '1'\n'over 34' will be encoded to '2'\n'under 10' will be encoded to '3'\n\n\nEncoder dictionary for the column 'Officer-defined ethnicity':\n'Asian' will be encoded to '0'\n'Black' will be encoded to '1'\n'Mixed' will be encoded to '2'\n'Other' will be encoded to '3'\n'White' will be encoded to '4'\n\n\nEncoder dictionary for the column 'Legislation':\n'Criminal Justice Act 1988 (section 139B)' will be encoded to '0'\n'Criminal Justice and Public Order Act 1994 (section 60)' will be encoded to '1'\n'Firearms Act 1968 (section 47)' will be encoded to '2'\n'Misuse of Drugs Act 1971 (section 23)' will be encoded to '3'\n'Police and Criminal Evidence Act 1984 (section 1)' will be encoded to '4'\n\n\nEncoder dictionary for the column 'Object of search':\n'Anything to threaten or harm anyone' will be encoded to '0'\n'Article for use in theft' will be encoded to '1'\n'Articles for use in criminal damage' will be encoded to '2'\n'Controlled drugs' will be encoded to '3'\n'Evidence of offences under the Act' will be encoded to '4'\n'Firearms' will be encoded to '5'\n'Fireworks' will be encoded to '6'\n'Offensive weapons' will be encoded to '7'\n'Stolen goods' will be encoded to '8'\n\n\nEncoder dictionary for the column 'Outcome':\n'Article found - Detailed outcome unavailable' will be encoded to '0'\n'Local resolution' will be encoded to '1'\n'Nothing found - no further action' will be encoded to '2'\n'Offender cautioned' will be encoded to '3'\n'Offender given drugs possession warning' will be encoded to '4'\n'Offender given penalty notice' will be encoded to '5'\n'Suspect arrested' will be encoded to '6'\n'Suspect summonsed to court' will be encoded to '7'\n\n\n"
     ]
    }
   ],
   "source": [
    "#Encoder Mapper\n",
    "# We are now able to access the seven encoders in the \"encoders\" dictionary, and use them to map the string value we're going to encode, to the corresponding numeral for that column (to see what the value of that cell is, before and after the encoding).\n",
    "for label in categorical_cols:\n",
    "    print(f\"Encoder dictionary for the column '{label}':\")\n",
    "    categories = encoders[f\"{label} Encoder\"].classes_\n",
    "    for i in range(len(categories)):\n",
    "        numeral = encoders[f\"{label} Encoder\"].transform([categories[i]])\n",
    "        print(f\"'{categories[i]}' will be encoded to '{numeral[0]}'\")\n",
    "    print(\"\\n\")"
   ]
  },
  {
   "cell_type": "code",
   "execution_count": 11,
   "metadata": {},
   "outputs": [
    {
     "output_type": "execute_result",
     "data": {
      "text/plain": [
       "   Type                      Date   Latitude  Longitude  Gender  Age range  \\\n",
       "0     1 2015-03-02 16:40:00+00:00  51.512286  -0.114491       1          1   \n",
       "1     1 2015-03-02 16:40:00+00:00  51.512286  -0.114491       1          1   \n",
       "2     1 2015-03-02 18:45:00+00:00  51.512286  -0.114491       1          1   \n",
       "4     0 2015-03-03 15:50:00+00:00  51.512286  -0.114491       1          1   \n",
       "5     1 2015-03-03 20:20:00+00:00  51.512286  -0.114491       1          1   \n",
       "\n",
       "   Officer-defined ethnicity  Legislation  Object of search  Outcome  \n",
       "0                          0            4                 8        6  \n",
       "1                          0            4                 8        6  \n",
       "2                          4            4                 8        6  \n",
       "4                          4            4                 8        6  \n",
       "5                          0            3                 3        2  "
      ],
      "text/html": "<div>\n<style scoped>\n    .dataframe tbody tr th:only-of-type {\n        vertical-align: middle;\n    }\n\n    .dataframe tbody tr th {\n        vertical-align: top;\n    }\n\n    .dataframe thead th {\n        text-align: right;\n    }\n</style>\n<table border=\"1\" class=\"dataframe\">\n  <thead>\n    <tr style=\"text-align: right;\">\n      <th></th>\n      <th>Type</th>\n      <th>Date</th>\n      <th>Latitude</th>\n      <th>Longitude</th>\n      <th>Gender</th>\n      <th>Age range</th>\n      <th>Officer-defined ethnicity</th>\n      <th>Legislation</th>\n      <th>Object of search</th>\n      <th>Outcome</th>\n    </tr>\n  </thead>\n  <tbody>\n    <tr>\n      <th>0</th>\n      <td>1</td>\n      <td>2015-03-02 16:40:00+00:00</td>\n      <td>51.512286</td>\n      <td>-0.114491</td>\n      <td>1</td>\n      <td>1</td>\n      <td>0</td>\n      <td>4</td>\n      <td>8</td>\n      <td>6</td>\n    </tr>\n    <tr>\n      <th>1</th>\n      <td>1</td>\n      <td>2015-03-02 16:40:00+00:00</td>\n      <td>51.512286</td>\n      <td>-0.114491</td>\n      <td>1</td>\n      <td>1</td>\n      <td>0</td>\n      <td>4</td>\n      <td>8</td>\n      <td>6</td>\n    </tr>\n    <tr>\n      <th>2</th>\n      <td>1</td>\n      <td>2015-03-02 18:45:00+00:00</td>\n      <td>51.512286</td>\n      <td>-0.114491</td>\n      <td>1</td>\n      <td>1</td>\n      <td>4</td>\n      <td>4</td>\n      <td>8</td>\n      <td>6</td>\n    </tr>\n    <tr>\n      <th>4</th>\n      <td>0</td>\n      <td>2015-03-03 15:50:00+00:00</td>\n      <td>51.512286</td>\n      <td>-0.114491</td>\n      <td>1</td>\n      <td>1</td>\n      <td>4</td>\n      <td>4</td>\n      <td>8</td>\n      <td>6</td>\n    </tr>\n    <tr>\n      <th>5</th>\n      <td>1</td>\n      <td>2015-03-03 20:20:00+00:00</td>\n      <td>51.512286</td>\n      <td>-0.114491</td>\n      <td>1</td>\n      <td>1</td>\n      <td>0</td>\n      <td>3</td>\n      <td>3</td>\n      <td>2</td>\n    </tr>\n  </tbody>\n</table>\n</div>"
     },
     "metadata": {},
     "execution_count": 11
    }
   ],
   "source": [
    "#We copy the \"data\" variable into \"data_encoded\", such that changing one won't impact the other\n",
    "data_encoded = data.copy() \n",
    "\n",
    "#We perform the encoding to \"data_encoded\"\n",
    "for label in categorical_cols:\n",
    "    data_encoded[label] = encoders[f\"{label} Encoder\"].fit(data[label]).transform(data[label])\n",
    "\n",
    "#Print the data_encoded... notice all values have been numerified!\n",
    "data_encoded.head()"
   ]
  },
  {
   "cell_type": "code",
   "execution_count": 12,
   "metadata": {},
   "outputs": [
    {
     "output_type": "execute_result",
     "data": {
      "text/plain": [
       "                        Type                      Date   Latitude  Longitude  \\\n",
       "0              Person search 2015-03-02 16:40:00+00:00  51.512286  -0.114491   \n",
       "1              Person search 2015-03-02 16:40:00+00:00  51.512286  -0.114491   \n",
       "2              Person search 2015-03-02 18:45:00+00:00  51.512286  -0.114491   \n",
       "4  Person and Vehicle search 2015-03-03 15:50:00+00:00  51.512286  -0.114491   \n",
       "5              Person search 2015-03-03 20:20:00+00:00  51.512286  -0.114491   \n",
       "\n",
       "  Gender Age range Officer-defined ethnicity  \\\n",
       "0   Male     25-34                     Asian   \n",
       "1   Male     25-34                     Asian   \n",
       "2   Male     25-34                     White   \n",
       "4   Male     25-34                     White   \n",
       "5   Male     25-34                     Asian   \n",
       "\n",
       "                                         Legislation  Object of search  \\\n",
       "0  Police and Criminal Evidence Act 1984 (section 1)      Stolen goods   \n",
       "1  Police and Criminal Evidence Act 1984 (section 1)      Stolen goods   \n",
       "2  Police and Criminal Evidence Act 1984 (section 1)      Stolen goods   \n",
       "4  Police and Criminal Evidence Act 1984 (section 1)      Stolen goods   \n",
       "5              Misuse of Drugs Act 1971 (section 23)  Controlled drugs   \n",
       "\n",
       "                             Outcome  \n",
       "0                   Suspect arrested  \n",
       "1                   Suspect arrested  \n",
       "2                   Suspect arrested  \n",
       "4                   Suspect arrested  \n",
       "5  Nothing found - no further action  "
      ],
      "text/html": "<div>\n<style scoped>\n    .dataframe tbody tr th:only-of-type {\n        vertical-align: middle;\n    }\n\n    .dataframe tbody tr th {\n        vertical-align: top;\n    }\n\n    .dataframe thead th {\n        text-align: right;\n    }\n</style>\n<table border=\"1\" class=\"dataframe\">\n  <thead>\n    <tr style=\"text-align: right;\">\n      <th></th>\n      <th>Type</th>\n      <th>Date</th>\n      <th>Latitude</th>\n      <th>Longitude</th>\n      <th>Gender</th>\n      <th>Age range</th>\n      <th>Officer-defined ethnicity</th>\n      <th>Legislation</th>\n      <th>Object of search</th>\n      <th>Outcome</th>\n    </tr>\n  </thead>\n  <tbody>\n    <tr>\n      <th>0</th>\n      <td>Person search</td>\n      <td>2015-03-02 16:40:00+00:00</td>\n      <td>51.512286</td>\n      <td>-0.114491</td>\n      <td>Male</td>\n      <td>25-34</td>\n      <td>Asian</td>\n      <td>Police and Criminal Evidence Act 1984 (section 1)</td>\n      <td>Stolen goods</td>\n      <td>Suspect arrested</td>\n    </tr>\n    <tr>\n      <th>1</th>\n      <td>Person search</td>\n      <td>2015-03-02 16:40:00+00:00</td>\n      <td>51.512286</td>\n      <td>-0.114491</td>\n      <td>Male</td>\n      <td>25-34</td>\n      <td>Asian</td>\n      <td>Police and Criminal Evidence Act 1984 (section 1)</td>\n      <td>Stolen goods</td>\n      <td>Suspect arrested</td>\n    </tr>\n    <tr>\n      <th>2</th>\n      <td>Person search</td>\n      <td>2015-03-02 18:45:00+00:00</td>\n      <td>51.512286</td>\n      <td>-0.114491</td>\n      <td>Male</td>\n      <td>25-34</td>\n      <td>White</td>\n      <td>Police and Criminal Evidence Act 1984 (section 1)</td>\n      <td>Stolen goods</td>\n      <td>Suspect arrested</td>\n    </tr>\n    <tr>\n      <th>4</th>\n      <td>Person and Vehicle search</td>\n      <td>2015-03-03 15:50:00+00:00</td>\n      <td>51.512286</td>\n      <td>-0.114491</td>\n      <td>Male</td>\n      <td>25-34</td>\n      <td>White</td>\n      <td>Police and Criminal Evidence Act 1984 (section 1)</td>\n      <td>Stolen goods</td>\n      <td>Suspect arrested</td>\n    </tr>\n    <tr>\n      <th>5</th>\n      <td>Person search</td>\n      <td>2015-03-03 20:20:00+00:00</td>\n      <td>51.512286</td>\n      <td>-0.114491</td>\n      <td>Male</td>\n      <td>25-34</td>\n      <td>Asian</td>\n      <td>Misuse of Drugs Act 1971 (section 23)</td>\n      <td>Controlled drugs</td>\n      <td>Nothing found - no further action</td>\n    </tr>\n  </tbody>\n</table>\n</div>"
     },
     "metadata": {},
     "execution_count": 12
    }
   ],
   "source": [
    "#But \"data\" remains as it was...\n",
    "data.head()\n",
    "\n",
    "#You can use the Encoder Mapper to map between the numrical values in data_encoded and the original string"
   ]
  }
 ]
}