{
 "metadata": {
  "language_info": {
   "codemirror_mode": {
    "name": "ipython",
    "version": 3
   },
   "file_extension": ".py",
   "mimetype": "text/x-python",
   "name": "python",
   "nbconvert_exporter": "python",
   "pygments_lexer": "ipython3",
   "version": "3.8.3-final"
  },
  "orig_nbformat": 2,
  "kernelspec": {
   "name": "python3",
   "display_name": "Python 3"
  }
 },
 "nbformat": 4,
 "nbformat_minor": 2,
 "cells": [
  {
   "source": [
    "\n",
    "## Research Question: \"Predict whether a stop and search will conclude in police action\".\n",
    "\n",
    "#### In this notebook we attempt to answer the research question using the data set (https://www.kaggle.com/sohier/london-police-records?select=london-stop-and-search.csv). First we clean the data from null values."
   ],
   "cell_type": "markdown",
   "metadata": {}
  },
  {
   "source": [
    "We import the libraries"
   ],
   "cell_type": "markdown",
   "metadata": {}
  },
  {
   "cell_type": "code",
   "execution_count": 33,
   "metadata": {},
   "outputs": [],
   "source": [
    "import pandas as pd"
   ]
  },
  {
   "source": [
    "We import the dataset. It is \"london-stop-and-search.csv\", retrieved from Kaggle (https://www.kaggle.com/sohier/london-police-records?select=london-stop-and-search.csv), then cleaned by having some columns removed (\"part of police operation\", \"police operation\", and \"self-defined ethnicity\")."
   ],
   "cell_type": "markdown",
   "metadata": {}
  },
  {
   "cell_type": "code",
   "execution_count": 36,
   "metadata": {},
   "outputs": [
    {
     "output_type": "stream",
     "name": "stdout",
     "text": [
      "<class 'pandas.core.frame.DataFrame'>\nRangeIndex: 302623 entries, 0 to 302622\nData columns (total 12 columns):\n #   Column                                    Non-Null Count   Dtype  \n---  ------                                    --------------   -----  \n 0   Type                                      302623 non-null  object \n 1   Date                                      302623 non-null  object \n 2   Latitude                                  110615 non-null  float64\n 3   Longitude                                 110615 non-null  float64\n 4   Gender                                    299453 non-null  object \n 5   Age range                                 288579 non-null  object \n 6   Officer-defined ethnicity                 298958 non-null  object \n 7   Legislation                               302623 non-null  object \n 8   Object of search                          216156 non-null  object \n 9   Outcome linked to object of search        1206 non-null    object \n 10  Removal of more than just outer clothing  2789 non-null    object \n 11  Outcome                                   302623 non-null  object \ndtypes: float64(2), object(10)\nmemory usage: 27.7+ MB\nNone\n\n\n<class 'pandas.core.frame.DataFrame'>\nRangeIndex: 302623 entries, 0 to 302622\nData columns (total 10 columns):\n #   Column                     Non-Null Count   Dtype  \n---  ------                     --------------   -----  \n 0   Type                       302623 non-null  object \n 1   Date                       302623 non-null  object \n 2   Latitude                   110615 non-null  float64\n 3   Longitude                  110615 non-null  float64\n 4   Gender                     299453 non-null  object \n 5   Age range                  288579 non-null  object \n 6   Officer-defined ethnicity  298958 non-null  object \n 7   Legislation                302623 non-null  object \n 8   Object of search           216156 non-null  object \n 9   Outcome                    302623 non-null  object \ndtypes: float64(2), object(8)\nmemory usage: 23.1+ MB\nNone\n"
     ]
    }
   ],
   "source": [
    "data = pd.read_csv(\"data.csv\")\n",
    "print(data.info())\n",
    "\n",
    "# Programatically remove \"Outcome linked to object of search\" and \"Removal of more than just outer clothing\". \n",
    "# Reason: too many nulls. For the former, not something that is relevant before the police action- so irrelevant to research question.\n",
    "# TODO: discuss wether the csv file needs to be modified to reflect this.\n",
    "del data[\"Outcome linked to object of search\"]\n",
    "del data[\"Removal of more than just outer clothing\"]\n",
    "print(\"\\n\")\n",
    "print(data.info())\n"
   ]
  },
  {
   "source": [
    "The columns \"Type\", \"Date\", \"Gender\", \"Age Range\", \"Officer-defined Ethnicity\", \"Legislation\", \"Object of Search\", and \"Outcome\" are type object. So null values for those columns cannot be replaced by a mean. However, Latitude and Longitude are floats, so we will replace null values with the mean."
   ],
   "cell_type": "markdown",
   "metadata": {}
  },
  {
   "cell_type": "code",
   "execution_count": 41,
   "metadata": {},
   "outputs": [
    {
     "output_type": "stream",
     "name": "stdout",
     "text": [
      "<class 'pandas.core.frame.DataFrame'>\nInt64Index: 205461 entries, 0 to 302622\nData columns (total 10 columns):\n #   Column                     Non-Null Count   Dtype  \n---  ------                     --------------   -----  \n 0   Type                       205461 non-null  object \n 1   Date                       205461 non-null  object \n 2   Latitude                   205461 non-null  float64\n 3   Longitude                  205461 non-null  float64\n 4   Gender                     205461 non-null  object \n 5   Age range                  205461 non-null  object \n 6   Officer-defined ethnicity  205461 non-null  object \n 7   Legislation                205461 non-null  object \n 8   Object of search           205461 non-null  object \n 9   Outcome                    205461 non-null  object \ndtypes: float64(2), object(8)\nmemory usage: 17.2+ MB\nNone\n"
     ]
    }
   ],
   "source": [
    "#Cover latitude and longitude nulls to median\n",
    "\n",
    "# data[\"Latitude\"] = missing_median(df=data, name=\"Latitude\")\n",
    "# data[\"Longitude\"] = missing_median(df=data, name=\"Longitude\")\n",
    "lat_median = data[\"Latitude\"].median()\n",
    "lon_median = data[\"Longitude\"].median()\n",
    "\n",
    "data[\"Latitude\"] = data[\"Latitude\"].fillna(lat_median)\n",
    "data[\"Longitude\"] = data[\"Longitude\"].fillna(lon_median)\n",
    "\n",
    "print(data.info())\n",
    "\n",
    "# Some of the values for \"Age range\" have an inexplicable value of \"Oct-17... those will be removed as well\"\n",
    "# Reference for dictionary idea to replace values: https://stackoverflow.com/questions/17114904/python-pandas-replacing-strings-in-dataframe-with-numbers\n",
    "oct17_to_None = {\"Oct-17\": None}\n",
    "data = data.applymap(lambda s: oct17_to_None.get(s) if s in oct17_to_None else s)\n",
    "\n"
   ]
  },
  {
   "cell_type": "code",
   "execution_count": 42,
   "metadata": {},
   "outputs": [
    {
     "output_type": "stream",
     "name": "stdout",
     "text": [
      "<class 'pandas.core.frame.DataFrame'>\nInt64Index: 165651 entries, 0 to 302621\nData columns (total 10 columns):\n #   Column                     Non-Null Count   Dtype  \n---  ------                     --------------   -----  \n 0   Type                       165651 non-null  object \n 1   Date                       165651 non-null  object \n 2   Latitude                   165651 non-null  float64\n 3   Longitude                  165651 non-null  float64\n 4   Gender                     165651 non-null  object \n 5   Age range                  165651 non-null  object \n 6   Officer-defined ethnicity  165651 non-null  object \n 7   Legislation                165651 non-null  object \n 8   Object of search           165651 non-null  object \n 9   Outcome                    165651 non-null  object \ndtypes: float64(2), object(8)\nmemory usage: 13.9+ MB\nNone\n"
     ]
    }
   ],
   "source": [
    "#For other columsn we'll need to drop the null values \n",
    "data = data.dropna()\n",
    "print(data.info())"
   ]
  },
  {
   "cell_type": "code",
   "execution_count": null,
   "metadata": {},
   "outputs": [],
   "source": []
  }
 ]
}