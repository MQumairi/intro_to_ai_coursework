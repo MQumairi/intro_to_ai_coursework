{
 "cells": [
  {
   "cell_type": "code",
   "execution_count": null,
   "metadata": {},
   "outputs": [],
   "source": [
    "Decision Tree (Uni-variate)\n",
    "The Task\n",
    "Import the dataset_cleaned.csv file.\n",
    "Remove all columns apart from Date, City name (Features), and Average Price (Target)\n",
    "Split data intro train and test sections\n",
    "Scatter plot the Date to the Average Price, color coding City Names\n",
    "Fit a Decision Tree model to the training data\n",
    "Evaluate against testing data"
   ]
  },
  {
   "cell_type": "code",
   "execution_count": 97,
   "metadata": {},
   "outputs": [],
   "source": [
    "import pandas as pd\n",
    "from sklearn.model_selection import train_test_split\n",
    "import matplotlib.pyplot as plt\n",
    "from sklearn.tree import DecisionTreeRegressor\n",
    "from sklearn.ensemble import BaggingRegressor\n",
    "from sklearn.metrics import accuracy_score\n",
    "from sklearn.metrics import confusion_matrix\n",
    "from sklearn import metrics"
   ]
  },
  {
   "cell_type": "code",
   "execution_count": 55,
   "metadata": {},
   "outputs": [
    {
     "data": {
      "text/html": [
       "<div>\n",
       "<style scoped>\n",
       "    .dataframe tbody tr th:only-of-type {\n",
       "        vertical-align: middle;\n",
       "    }\n",
       "\n",
       "    .dataframe tbody tr th {\n",
       "        vertical-align: top;\n",
       "    }\n",
       "\n",
       "    .dataframe thead th {\n",
       "        text-align: right;\n",
       "    }\n",
       "</style>\n",
       "<table border=\"1\" class=\"dataframe\">\n",
       "  <thead>\n",
       "    <tr style=\"text-align: right;\">\n",
       "      <th></th>\n",
       "      <th>Date</th>\n",
       "      <th>RegionName</th>\n",
       "      <th>AveragePrice</th>\n",
       "    </tr>\n",
       "  </thead>\n",
       "  <tbody>\n",
       "    <tr>\n",
       "      <th>0</th>\n",
       "      <td>1995-01-01</td>\n",
       "      <td>City of London</td>\n",
       "      <td>91448.98487</td>\n",
       "    </tr>\n",
       "    <tr>\n",
       "      <th>1</th>\n",
       "      <td>1995-02-01</td>\n",
       "      <td>City of London</td>\n",
       "      <td>82202.77314</td>\n",
       "    </tr>\n",
       "    <tr>\n",
       "      <th>2</th>\n",
       "      <td>1995-03-01</td>\n",
       "      <td>City of London</td>\n",
       "      <td>79120.70256</td>\n",
       "    </tr>\n",
       "    <tr>\n",
       "      <th>3</th>\n",
       "      <td>1995-04-01</td>\n",
       "      <td>City of London</td>\n",
       "      <td>77101.20804</td>\n",
       "    </tr>\n",
       "    <tr>\n",
       "      <th>4</th>\n",
       "      <td>1995-05-01</td>\n",
       "      <td>City of London</td>\n",
       "      <td>84409.14932</td>\n",
       "    </tr>\n",
       "  </tbody>\n",
       "</table>\n",
       "</div>"
      ],
      "text/plain": [
       "         Date      RegionName  AveragePrice\n",
       "0  1995-01-01  City of London   91448.98487\n",
       "1  1995-02-01  City of London   82202.77314\n",
       "2  1995-03-01  City of London   79120.70256\n",
       "3  1995-04-01  City of London   77101.20804\n",
       "4  1995-05-01  City of London   84409.14932"
      ]
     },
     "execution_count": 55,
     "metadata": {},
     "output_type": "execute_result"
    }
   ],
   "source": [
    "# Import the data\n",
    "data = pd.read_csv(\"dataset_cleaned.csv\")\n",
    "\n",
    "# Remove all columns apart from Date, City name, and Average Price\n",
    "list_of_cols_to_keep = [\"Date\", \"RegionName\", \"AveragePrice\"]\n",
    "data = data[list_of_cols_to_keep]\n",
    "data.head()"
   ]
  },
  {
   "cell_type": "code",
   "execution_count": 58,
   "metadata": {},
   "outputs": [
    {
     "data": {
      "text/html": [
       "<div>\n",
       "<style scoped>\n",
       "    .dataframe tbody tr th:only-of-type {\n",
       "        vertical-align: middle;\n",
       "    }\n",
       "\n",
       "    .dataframe tbody tr th {\n",
       "        vertical-align: top;\n",
       "    }\n",
       "\n",
       "    .dataframe thead th {\n",
       "        text-align: right;\n",
       "    }\n",
       "</style>\n",
       "<table border=\"1\" class=\"dataframe\">\n",
       "  <thead>\n",
       "    <tr style=\"text-align: right;\">\n",
       "      <th></th>\n",
       "      <th>Date</th>\n",
       "      <th>RegionName</th>\n",
       "      <th>AveragePrice</th>\n",
       "    </tr>\n",
       "  </thead>\n",
       "  <tbody>\n",
       "    <tr>\n",
       "      <th>0</th>\n",
       "      <td>1995.0101</td>\n",
       "      <td>1</td>\n",
       "      <td>91448.98487</td>\n",
       "    </tr>\n",
       "    <tr>\n",
       "      <th>1</th>\n",
       "      <td>1995.0201</td>\n",
       "      <td>1</td>\n",
       "      <td>82202.77314</td>\n",
       "    </tr>\n",
       "    <tr>\n",
       "      <th>2</th>\n",
       "      <td>1995.0301</td>\n",
       "      <td>1</td>\n",
       "      <td>79120.70256</td>\n",
       "    </tr>\n",
       "    <tr>\n",
       "      <th>3</th>\n",
       "      <td>1995.0401</td>\n",
       "      <td>1</td>\n",
       "      <td>77101.20804</td>\n",
       "    </tr>\n",
       "    <tr>\n",
       "      <th>4</th>\n",
       "      <td>1995.0501</td>\n",
       "      <td>1</td>\n",
       "      <td>84409.14932</td>\n",
       "    </tr>\n",
       "  </tbody>\n",
       "</table>\n",
       "</div>"
      ],
      "text/plain": [
       "        Date  RegionName  AveragePrice\n",
       "0  1995.0101           1   91448.98487\n",
       "1  1995.0201           1   82202.77314\n",
       "2  1995.0301           1   79120.70256\n",
       "3  1995.0401           1   77101.20804\n",
       "4  1995.0501           1   84409.14932"
      ]
     },
     "execution_count": 58,
     "metadata": {},
     "output_type": "execute_result"
    }
   ],
   "source": [
    "# Numerify the data \n",
    "\n",
    "# Changing dates to numeric value of format YYYY.MMDD (e.g. 2020-01-01 will change to 2020.0101)\n",
    "# Reference for parsing data strings and changing to numbers: https://stackoverflow.com/questions/50863691/pandas-convert-date-object-to-int\n",
    "data['Date'] = data['Date'].str.replace(\"-\",\"\").astype(int)\n",
    "data['Date'] = data['Date'] / 10000 \n",
    "\n",
    "# Changing all Cities to Numbers based on the city_to_number dictionary (e.g. City of London will be changed to 1)\n",
    "# Reference for dictionary idea: https://stackoverflow.com/questions/17114904/python-pandas-replacing-strings-in-dataframe-with-numbers\n",
    "city_to_number = {\"City of London\":1, \"Manchester\":2, \"Birmingham\":3, \"Leeds\":4, \"Liverpool\":5, \"Bradford\":6, \"Sheffield\":7}\n",
    "data = data.applymap(lambda s: city_to_number.get(s) if s in city_to_number else s)\n",
    "\n",
    "data.head()"
   ]
  },
  {
   "cell_type": "code",
   "execution_count": 127,
   "metadata": {},
   "outputs": [],
   "source": [
    "# Split Features from Target\n",
    "features = data[[\"Date\", \"RegionName\"]]\n",
    "target = data[\"AveragePrice\"]\n",
    "\n",
    "# Split into test and train\n",
    "X_train, X_test, y_train, y_test = train_test_split(\n",
    "    features, target, test_size=0.2, random_state=10)\n",
    "\n",
    "# Splits the data into training data and validation data\n",
    "# kf = KFold(5)"
   ]
  },
  {
   "cell_type": "code",
   "execution_count": 88,
   "metadata": {},
   "outputs": [
    {
     "data": {
      "text/plain": [
       "<matplotlib.collections.PathCollection at 0x125c1c340>"
      ]
     },
     "execution_count": 88,
     "metadata": {},
     "output_type": "execute_result"
    },
    {
     "data": {
      "image/png": "[encoded data removed]",
      "text/plain": [
       "<Figure size 720x360 with 1 Axes>"
      ]
     },
     "metadata": {
      "needs_background": "light"
     },
     "output_type": "display_data"
    }
   ],
   "source": [
    "# Scatter graph \n",
    "plt.figure(figsize=[10, 5])\n",
    "plt.title(\"Date vs Average Price for All Cities\")\n",
    "plt.ylabel(\"Average Price of Houses\")\n",
    "plt.xlabel(\"Date\")\n",
    "plt.scatter(X_train[\"Date\"], y_train, c=X_train[\"RegionName\"])"
   ]
  },
  {
   "cell_type": "code",
   "execution_count": 121,
   "metadata": {},
   "outputs": [],
   "source": [
    "tree = DecisionTreeRegressor()\n",
    "# get Boostrap aggregation ensemble regressor \n",
    "#https://stackoverflow.com/questions/59147246/how-can-i-improve-the-accuracy-of-my-prediction-from-a-decision-tree-model-using\n",
    "b_tree = BaggingRegressor(tree, n_estimators = 100, max_features=2, max_samples=.5)  "
   ]
  },
  {
   "cell_type": "code",
   "execution_count": 124,
   "metadata": {},
   "outputs": [],
   "source": [
    "# Fit+predict using regular regressor\n",
    "tree.fit(X_train, y_train)\n",
    "y_pred = tree.predict(X_test)"
   ]
  },
  {
   "cell_type": "code",
   "execution_count": 123,
   "metadata": {},
   "outputs": [],
   "source": [
    "# Fit predict using bootstrap aggregation\n",
    "b_tree.fit(X_train, y_train)  \n",
    "y_b_pred = b_tree.predict(X_test) "
   ]
  },
  {
   "cell_type": "code",
   "execution_count": 125,
   "metadata": {},
   "outputs": [
    {
     "name": "stdout",
     "output_type": "stream",
     "text": [
      "      Actual Value  Predicted Values  Bagging Predicted Values\n",
      "1994  136857.42980      135797.94980             138306.450935\n",
      "810   129659.21430      132034.48230             131358.404173\n",
      "379    44201.13733       43849.38145              44143.919651\n",
      "648    50236.06906       49778.90344              49894.348753\n",
      "500   116754.30610      118610.47020             117823.009240\n",
      "...            ...               ...                       ...\n",
      "1189  168933.87840      168357.32070             168720.165746\n",
      "1145  136821.29400      137747.76880             137994.556188\n",
      "1779  119777.33660      117734.30660             119261.251757\n",
      "661    52322.95307       53003.86058              52846.499572\n",
      "335    34228.05189       34614.75794              34924.832395\n",
      "\n",
      "[432 rows x 3 columns]\n"
     ]
    }
   ],
   "source": [
    "df = pd.DataFrame({'Actual Value': y_test, 'Predicted Values': y_pred, 'Bagging Predicted Values': y_b_pred})  \n",
    "print(df)"
   ]
  },
  {
   "cell_type": "code",
   "execution_count": 126,
   "metadata": {},
   "outputs": [
    {
     "name": "stdout",
     "output_type": "stream",
     "text": [
      "1.0\n",
      "0.9941441371173517\n"
     ]
    }
   ],
   "source": [
    "# Evaluate using r^2\n",
    "print(tree.score(X_train, y_train))\n",
    "print(tree.score(X_test, y_test))"
   ]
  },
  {
   "cell_type": "code",
   "execution_count": 120,
   "metadata": {},
   "outputs": [
    {
     "name": "stdout",
     "output_type": "stream",
     "text": [
      "Mean Absolute Error (Regular): 4108.733710601852\n",
      "Mean Squared Error (Regular): 126326735.32417165\n",
      "Root Mean Squared Error (Regular): 11239.516685523966\n",
      "Mean Absolute Error (Bagging): 3943.8463014460585\n",
      "Mean Squared Error (Bagging): 127088727.49756785\n",
      "Root Mean Squared Error (Bagging): 11273.363628374978\n"
     ]
    }
   ],
   "source": [
    "print('Mean Absolute Error (Regular):', metrics.mean_absolute_error(y_test, y_pred))\n",
    "print('Mean Squared Error (Regular):', metrics.mean_squared_error(y_test, y_pred))\n",
    "print('Root Mean Squared Error (Regular):', np.sqrt(metrics.mean_squared_error(y_test, y_pred)))\n",
    "\n",
    "print('Mean Absolute Error (Bagging):', metrics.mean_absolute_error(y_test, y_b_pred))\n",
    "print('Mean Squared Error (Bagging):', metrics.mean_squared_error(y_test, y_b_pred))\n",
    "print('Root Mean Squared Error (Bagging):', np.sqrt(metrics.mean_squared_error(y_test, y_b_pred)))"
   ]
  },
  {
   "cell_type": "code",
   "execution_count": 128,
   "metadata": {},
   "outputs": [],
   "source": [
    "sc = StandardScaler()"
   ]
  },
  {
   "cell_type": "code",
   "execution_count": 134,
   "metadata": {},
   "outputs": [],
   "source": [
    "# # using 5-fold cross validation, for each fold, a DT\n",
    "# # is trained and tested and confusion matrices generated\n",
    "# for train_index, validate_index in kf.split(features, target):\n",
    "#     Xt = features[train_index]\n",
    "#     Xv = features[validate_index]\n",
    "#     sc.fit(Xt)\n",
    "#     X_train_std = sc.transform(Xt)\n",
    "#     X_test_std = sc.transform(Xv)\n",
    "#     # Train the DT with the training data\n",
    "#     tree.fit(X_train_std, target[train_index])\n",
    "#     y_test = target[validate_index]\n",
    "#     # Use the validation data to make predictions with the trained DT\n",
    "#     y_pred = tree.predict(X_test_std)"
   ]
  },
  {
   "cell_type": "code",
   "execution_count": null,
   "metadata": {},
   "outputs": [],
   "source": []
  }
 ],
 "metadata": {
  "kernelspec": {
   "display_name": "Python 3",
   "language": "python",
   "name": "python3"
  },
  "language_info": {
   "codemirror_mode": {
    "name": "ipython",
    "version": 3
   },
   "file_extension": ".py",
   "mimetype": "text/x-python",
   "name": "python",
   "nbconvert_exporter": "python",
   "pygments_lexer": "ipython3",
   "version": "3.8.3"
  }
 },
 "nbformat": 4,
 "nbformat_minor": 4
}
