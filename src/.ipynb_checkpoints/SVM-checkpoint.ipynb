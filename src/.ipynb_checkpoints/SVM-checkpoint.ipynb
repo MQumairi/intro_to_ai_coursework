{
 "cells": [
  {
   "cell_type": "code",
   "execution_count": null,
   "metadata": {},
   "outputs": [],
   "source": [
    "Support Vector Machine \n",
    "The Task\n",
    "Import the data.csv file.\n",
    "Split data intro train and test sections\n",
    "Scatter plot the Date to the outcome\n",
    "Fit a SVNM model to the training data\n",
    "Evaluate against testing data"
   ]
  },
  {
   "cell_type": "code",
   "execution_count": 13,
   "metadata": {},
   "outputs": [],
   "source": [
    "import pandas as pd\n",
    "from sklearn.model_selection import train_test_split\n",
    "import matplotlib.pyplot as plt\n",
    "from sklearn.svm import SVC\n",
    "from sklearn.metrics import accuracy_score\n",
    "from sklearn.metrics import confusion_matrix\n",
    "import seaborn as sn\n",
    "from sklearn import metrics"
   ]
  },
  {
   "cell_type": "code",
   "execution_count": null,
   "metadata": {},
   "outputs": [],
   "source": []
  },
  {
   "cell_type": "code",
   "execution_count": 35,
   "metadata": {},
   "outputs": [],
   "source": [
    "# Import the data\n",
    "# \n",
    "# data.drop(columns=['Unnamed: 9'])\n",
    "# print(data.columns)\n",
    "# data.head()\n",
    "\n",
    "\n",
    "data = pd.read_csv(\"data.csv\", low_memory=False, index_col=9)\n",
    "# Programatically remove \"Outcome linked to object of search\" and \"Removal of more than just outer clothing\". \n",
    "# Reason: too many nulls. For the former, not something that is relevant before the police action- so irrelevant to research question.\n",
    "# TODO: discuss wether the csv file needs to be modified to reflect this.\n",
    "del data[\"Outcome linked to object of search\"]\n",
    "del data[\"Removal of more than just outer clothing\"]"
   ]
  },
  {
   "cell_type": "code",
   "execution_count": 22,
   "metadata": {},
   "outputs": [],
   "source": [
    "#Convert latitude and longitude nulls to median\n",
    "# lat_median = data[\"Latitude\"].median()\n",
    "# lon_median = data[\"Longitude\"].median()\n",
    "\n",
    "# data[\"Latitude\"] = data[\"Latitude\"].fillna(lat_median)\n",
    "# data[\"Longitude\"] = data[\"Longitude\"].fillna(lon_median)\n",
    "\n",
    "# #Change the \"Date\" column to type DateTime\n",
    "# data['Date'] = pd.to_datetime(data['Date'])\n",
    "\n",
    "# # Some of the values for \"Age range\" have an inexplicable value of \"Oct-17... those will be removed as well\"\n",
    "# # Reference for dictionary idea to replace values: https://stackoverflow.com/questions/17114904/python-pandas-replacing-strings-in-dataframe-with-numbers\n",
    "# oct17_to_None = {\"Oct-17\": None}\n",
    "# data = data.applymap(lambda s: oct17_to_None.get(s) if s in oct17_to_None else s)\n",
    "\n",
    "# #For other columsn we'll need to drop the null values \n",
    "# data = data.dropna()"
   ]
  },
  {
   "cell_type": "code",
   "execution_count": 36,
   "metadata": {},
   "outputs": [
    {
     "data": {
      "text/html": [
       "<div>\n",
       "<style scoped>\n",
       "    .dataframe tbody tr th:only-of-type {\n",
       "        vertical-align: middle;\n",
       "    }\n",
       "\n",
       "    .dataframe tbody tr th {\n",
       "        vertical-align: top;\n",
       "    }\n",
       "\n",
       "    .dataframe thead th {\n",
       "        text-align: right;\n",
       "    }\n",
       "</style>\n",
       "<table border=\"1\" class=\"dataframe\">\n",
       "  <thead>\n",
       "    <tr style=\"text-align: right;\">\n",
       "      <th></th>\n",
       "      <th>Type</th>\n",
       "      <th>Date</th>\n",
       "      <th>Latitude</th>\n",
       "      <th>Longitude</th>\n",
       "      <th>Gender</th>\n",
       "      <th>Age range</th>\n",
       "      <th>Officer-defined ethnicity</th>\n",
       "      <th>Legislation</th>\n",
       "      <th>Object of search</th>\n",
       "    </tr>\n",
       "  </thead>\n",
       "  <tbody>\n",
       "    <tr>\n",
       "      <th>NaN</th>\n",
       "      <td>Person search</td>\n",
       "      <td>2017-03-29T14:00:00+00:00</td>\n",
       "      <td>51.583972</td>\n",
       "      <td>-0.075660</td>\n",
       "      <td>Female</td>\n",
       "      <td>over 34</td>\n",
       "      <td>White</td>\n",
       "      <td>Police and Criminal Evidence Act 1984 (section 1)</td>\n",
       "      <td>Articles for use in criminal damage</td>\n",
       "    </tr>\n",
       "    <tr>\n",
       "      <th>NaN</th>\n",
       "      <td>Person search</td>\n",
       "      <td>2017-02-23T15:45:00+00:00</td>\n",
       "      <td>NaN</td>\n",
       "      <td>NaN</td>\n",
       "      <td>Male</td>\n",
       "      <td>Oct-17</td>\n",
       "      <td>White</td>\n",
       "      <td>Police and Criminal Evidence Act 1984 (section 1)</td>\n",
       "      <td>Articles for use in criminal damage</td>\n",
       "    </tr>\n",
       "    <tr>\n",
       "      <th>NaN</th>\n",
       "      <td>Vehicle search</td>\n",
       "      <td>2016-07-26T15:15:00+00:00</td>\n",
       "      <td>51.542266</td>\n",
       "      <td>-0.151257</td>\n",
       "      <td>NaN</td>\n",
       "      <td>NaN</td>\n",
       "      <td>NaN</td>\n",
       "      <td>Police and Criminal Evidence Act 1984 (section 1)</td>\n",
       "      <td>Articles for use in criminal damage</td>\n",
       "    </tr>\n",
       "    <tr>\n",
       "      <th>NaN</th>\n",
       "      <td>Person search</td>\n",
       "      <td>2015-08-31T06:30:00+00:00</td>\n",
       "      <td>NaN</td>\n",
       "      <td>NaN</td>\n",
       "      <td>Male</td>\n",
       "      <td>NaN</td>\n",
       "      <td>Black</td>\n",
       "      <td>Misuse of Drugs Act 1971 (section 23)</td>\n",
       "      <td>NaN</td>\n",
       "    </tr>\n",
       "    <tr>\n",
       "      <th>NaN</th>\n",
       "      <td>Person search</td>\n",
       "      <td>2017-01-17T19:55:00+00:00</td>\n",
       "      <td>51.428594</td>\n",
       "      <td>-0.079246</td>\n",
       "      <td>Male</td>\n",
       "      <td>25-34</td>\n",
       "      <td>White</td>\n",
       "      <td>Misuse of Drugs Act 1971 (section 23)</td>\n",
       "      <td>Controlled drugs</td>\n",
       "    </tr>\n",
       "  </tbody>\n",
       "</table>\n",
       "</div>"
      ],
      "text/plain": [
       "               Type                       Date   Latitude  Longitude  Gender  \\\n",
       "NaN   Person search  2017-03-29T14:00:00+00:00  51.583972  -0.075660  Female   \n",
       "NaN   Person search  2017-02-23T15:45:00+00:00        NaN        NaN    Male   \n",
       "NaN  Vehicle search  2016-07-26T15:15:00+00:00  51.542266  -0.151257     NaN   \n",
       "NaN   Person search  2015-08-31T06:30:00+00:00        NaN        NaN    Male   \n",
       "NaN   Person search  2017-01-17T19:55:00+00:00  51.428594  -0.079246    Male   \n",
       "\n",
       "    Age range Officer-defined ethnicity  \\\n",
       "NaN   over 34                     White   \n",
       "NaN    Oct-17                     White   \n",
       "NaN       NaN                       NaN   \n",
       "NaN       NaN                     Black   \n",
       "NaN     25-34                     White   \n",
       "\n",
       "                                           Legislation  \\\n",
       "NaN  Police and Criminal Evidence Act 1984 (section 1)   \n",
       "NaN  Police and Criminal Evidence Act 1984 (section 1)   \n",
       "NaN  Police and Criminal Evidence Act 1984 (section 1)   \n",
       "NaN              Misuse of Drugs Act 1971 (section 23)   \n",
       "NaN              Misuse of Drugs Act 1971 (section 23)   \n",
       "\n",
       "                        Object of search  \n",
       "NaN  Articles for use in criminal damage  \n",
       "NaN  Articles for use in criminal damage  \n",
       "NaN  Articles for use in criminal damage  \n",
       "NaN                                  NaN  \n",
       "NaN                     Controlled drugs  "
      ]
     },
     "execution_count": 36,
     "metadata": {},
     "output_type": "execute_result"
    }
   ],
   "source": [
    "# Split Features from Target\n",
    "feature_cols = []\n",
    "\n",
    "for col_name in data.columns:\n",
    "    if(col_name != \"Outcome\"):\n",
    "        feature_cols.append(col_name)\n",
    "\n",
    "features = data[feature_cols]\n",
    "target = data[\"Outcome\"]\n",
    "\n",
    "# Split into test and train\n",
    "X_train, X_test, y_train, y_test = train_test_split(\n",
    "    features, target, test_size=0.2, random_state=10)\n",
    "\n",
    "X_train.head()"
   ]
  },
  {
   "cell_type": "code",
   "execution_count": null,
   "metadata": {},
   "outputs": [],
   "source": [
    "svm_model = SVC(kernel='linear', C=100, decision_function_shape='ovo').fit(features, target)"
   ]
  },
  {
   "cell_type": "code",
   "execution_count": null,
   "metadata": {},
   "outputs": [],
   "source": [
    "#make prediction on test data\n",
    "y_pred = svm_model.predict(X_test)"
   ]
  },
  {
   "cell_type": "code",
   "execution_count": 17,
   "metadata": {},
   "outputs": [],
   "source": [
    "print('Accuracy: %.2f' % accuracy_score(y_test, y_pred))"
   ]
  },
  {
   "cell_type": "code",
   "execution_count": null,
   "metadata": {},
   "outputs": [],
   "source": [
    "df = pd.DataFrame(data, columns=[y_test,y_pred])\n",
    "confusion_matrix = pd.crosstab(df[y_test], df[y_pred], rownames=['Actual'], colnames=['Predicted'])\n",
    "\n",
    "sn.heatmap(confusion_matrix, annot=True)\n",
    "plt.show()"
   ]
  },
  {
   "cell_type": "code",
   "execution_count": null,
   "metadata": {},
   "outputs": [],
   "source": []
  }
 ],
 "metadata": {
  "kernelspec": {
   "display_name": "Python 3",
   "language": "python",
   "name": "python3"
  },
  "language_info": {
   "codemirror_mode": {
    "name": "ipython",
    "version": 3
   },
   "file_extension": ".py",
   "mimetype": "text/x-python",
   "name": "python",
   "nbconvert_exporter": "python",
   "pygments_lexer": "ipython3",
   "version": "3.8.3"
  }
 },
 "nbformat": 4,
 "nbformat_minor": 4
}
