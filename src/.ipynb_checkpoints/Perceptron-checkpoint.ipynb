{
 "cells": [
  {
   "cell_type": "markdown",
   "metadata": {},
   "source": [
    "# Support Vector Machine\n",
    "## Research Question: \"Predict whether a stop and search will conclude in police action\".\n",
    "\n",
    "#### In this notebook we attempt to answer the research question using the data set (https://www.kaggle.com/sohier/london-police-records?select=london-stop-and-search.csv). Specifically, we will attempt to answer it by using K-nearest Neighbor to classify the data points on the target (\"Outcome\" of the stop and search)."
   ]
  },
  {
   "cell_type": "code",
   "execution_count": 2,
   "metadata": {},
   "outputs": [],
   "source": [
    "import pandas as pd\n",
    "from sklearn.preprocessing import LabelEncoder\n",
    "from sklearn.model_selection import train_test_split\n",
    "from sklearn.linear_model import Perceptron\n",
    "from sklearn.model_selection import KFold\n",
    "import util\n",
    "import numpy as np\n",
    "import matplotlib.pyplot as plt"
   ]
  },
  {
   "cell_type": "markdown",
   "metadata": {},
   "source": [
    "## Cleaning the Data set"
   ]
  },
  {
   "cell_type": "code",
   "execution_count": 5,
   "metadata": {},
   "outputs": [
    {
     "name": "stdout",
     "output_type": "stream",
     "text": [
      "<class 'pandas.core.frame.DataFrame'>\n",
      "Int64Index: 165651 entries, 0 to 302621\n",
      "Data columns (total 10 columns):\n",
      " #   Column                     Non-Null Count   Dtype              \n",
      "---  ------                     --------------   -----              \n",
      " 0   Type                       165651 non-null  object             \n",
      " 1   Date                       165651 non-null  datetime64[ns, UTC]\n",
      " 2   Latitude                   165651 non-null  float64            \n",
      " 3   Longitude                  165651 non-null  float64            \n",
      " 4   Gender                     165651 non-null  object             \n",
      " 5   Age range                  165651 non-null  object             \n",
      " 6   Officer-defined ethnicity  165651 non-null  object             \n",
      " 7   Legislation                165651 non-null  object             \n",
      " 8   Object of search           165651 non-null  object             \n",
      " 9   Outcome                    165651 non-null  object             \n",
      "dtypes: datetime64[ns, UTC](1), float64(2), object(7)\n",
      "memory usage: 13.9+ MB\n"
     ]
    }
   ],
   "source": [
    "data = pd.read_csv(\"data.csv\", low_memory = False)\n",
    "\n",
    "# data = data.dropna()\n",
    "data = util.data_cleaner(data)\n",
    "data.info()"
   ]
  },
  {
   "cell_type": "markdown",
   "metadata": {},
   "source": [
    "## Encoding Values"
   ]
  },
  {
   "cell_type": "code",
   "execution_count": 6,
   "metadata": {},
   "outputs": [
    {
     "data": {
      "text/html": [
       "<div>\n",
       "<style scoped>\n",
       "    .dataframe tbody tr th:only-of-type {\n",
       "        vertical-align: middle;\n",
       "    }\n",
       "\n",
       "    .dataframe tbody tr th {\n",
       "        vertical-align: top;\n",
       "    }\n",
       "\n",
       "    .dataframe thead th {\n",
       "        text-align: right;\n",
       "    }\n",
       "</style>\n",
       "<table border=\"1\" class=\"dataframe\">\n",
       "  <thead>\n",
       "    <tr style=\"text-align: right;\">\n",
       "      <th></th>\n",
       "      <th>Type</th>\n",
       "      <th>Date</th>\n",
       "      <th>Latitude</th>\n",
       "      <th>Longitude</th>\n",
       "      <th>Gender</th>\n",
       "      <th>Age range</th>\n",
       "      <th>Officer-defined ethnicity</th>\n",
       "      <th>Legislation</th>\n",
       "      <th>Object of search</th>\n",
       "      <th>Outcome</th>\n",
       "    </tr>\n",
       "  </thead>\n",
       "  <tbody>\n",
       "    <tr>\n",
       "      <th>0</th>\n",
       "      <td>1</td>\n",
       "      <td>0</td>\n",
       "      <td>51.512286</td>\n",
       "      <td>-0.114491</td>\n",
       "      <td>1</td>\n",
       "      <td>1</td>\n",
       "      <td>0</td>\n",
       "      <td>4</td>\n",
       "      <td>8</td>\n",
       "      <td>6</td>\n",
       "    </tr>\n",
       "    <tr>\n",
       "      <th>1</th>\n",
       "      <td>1</td>\n",
       "      <td>0</td>\n",
       "      <td>51.512286</td>\n",
       "      <td>-0.114491</td>\n",
       "      <td>1</td>\n",
       "      <td>1</td>\n",
       "      <td>0</td>\n",
       "      <td>4</td>\n",
       "      <td>8</td>\n",
       "      <td>6</td>\n",
       "    </tr>\n",
       "    <tr>\n",
       "      <th>2</th>\n",
       "      <td>1</td>\n",
       "      <td>1</td>\n",
       "      <td>51.512286</td>\n",
       "      <td>-0.114491</td>\n",
       "      <td>1</td>\n",
       "      <td>1</td>\n",
       "      <td>4</td>\n",
       "      <td>4</td>\n",
       "      <td>8</td>\n",
       "      <td>6</td>\n",
       "    </tr>\n",
       "    <tr>\n",
       "      <th>4</th>\n",
       "      <td>0</td>\n",
       "      <td>2</td>\n",
       "      <td>51.512286</td>\n",
       "      <td>-0.114491</td>\n",
       "      <td>1</td>\n",
       "      <td>1</td>\n",
       "      <td>4</td>\n",
       "      <td>4</td>\n",
       "      <td>8</td>\n",
       "      <td>6</td>\n",
       "    </tr>\n",
       "    <tr>\n",
       "      <th>5</th>\n",
       "      <td>1</td>\n",
       "      <td>3</td>\n",
       "      <td>51.512286</td>\n",
       "      <td>-0.114491</td>\n",
       "      <td>1</td>\n",
       "      <td>1</td>\n",
       "      <td>0</td>\n",
       "      <td>3</td>\n",
       "      <td>3</td>\n",
       "      <td>2</td>\n",
       "    </tr>\n",
       "  </tbody>\n",
       "</table>\n",
       "</div>"
      ],
      "text/plain": [
       "   Type  Date   Latitude  Longitude  Gender  Age range  \\\n",
       "0     1     0  51.512286  -0.114491       1          1   \n",
       "1     1     0  51.512286  -0.114491       1          1   \n",
       "2     1     1  51.512286  -0.114491       1          1   \n",
       "4     0     2  51.512286  -0.114491       1          1   \n",
       "5     1     3  51.512286  -0.114491       1          1   \n",
       "\n",
       "   Officer-defined ethnicity  Legislation  Object of search  Outcome  \n",
       "0                          0            4                 8        6  \n",
       "1                          0            4                 8        6  \n",
       "2                          4            4                 8        6  \n",
       "4                          4            4                 8        6  \n",
       "5                          0            3                 3        2  "
      ]
     },
     "execution_count": 6,
     "metadata": {},
     "output_type": "execute_result"
    }
   ],
   "source": [
    "data_encoded, encoders = util.data_encoder(data)\n",
    "data_encoded.head()"
   ]
  },
  {
   "cell_type": "markdown",
   "metadata": {},
   "source": [
    "## Split data into train and test"
   ]
  },
  {
   "cell_type": "code",
   "execution_count": 7,
   "metadata": {},
   "outputs": [],
   "source": [
    "# Split into features and target\n",
    "target = data_encoded[\"Outcome\"]\n",
    "features = data_encoded.drop('Outcome', axis=1)\n",
    "\n",
    "# Split into train and test\n",
    "X_train, X_test, y_train, y_test = train_test_split(features, target, test_size=0.2, random_state=10)"
   ]
  },
  {
   "cell_type": "markdown",
   "metadata": {},
   "source": [
    "## Train the Perceptron"
   ]
  },
  {
   "cell_type": "code",
   "execution_count": 32,
   "metadata": {},
   "outputs": [
    {
     "data": {
      "text/plain": [
       "Perceptron(eta0=1, max_iter=40)"
      ]
     },
     "execution_count": 32,
     "metadata": {},
     "output_type": "execute_result"
    }
   ],
   "source": [
    "ppn = Perceptron(max_iter=40,tol=0.001,eta0=1)\n",
    "ppn.fit(X_train, y_train)"
   ]
  },
  {
   "cell_type": "code",
   "execution_count": 33,
   "metadata": {},
   "outputs": [
    {
     "name": "stdout",
     "output_type": "stream",
     "text": [
      "Training Score: 0.18228191971023242\n",
      "Testing Score: 0.18188403609912168\n",
      "\n",
      " Confusion Matrix\n"
     ]
    },
    {
     "data": {
      "image/png": "[encoded data removed]",
      "text/plain": [
       "<Figure size 1152x720 with 2 Axes>"
      ]
     },
     "metadata": {
      "needs_background": "light"
     },
     "output_type": "display_data"
    }
   ],
   "source": [
    "print(f\"Training Score: {ppn.score(X_train, y_train)}\")\n",
    "print(f\"Testing Score: {ppn.score(X_test, y_test)}\")\n",
    "print(\"\\n Confusion Matrix\")\n",
    "y_predictions = ppn.predict(X_test)\n",
    "util.confusion_plot(y_test=y_test, y_predictions=y_predictions)"
   ]
  },
  {
   "cell_type": "code",
   "execution_count": 19,
   "metadata": {},
   "outputs": [],
   "source": [
    "## Having achieved very poor training and test scores it is clear that the training split isn't effective. Perhaps K Cross Validation will be better for train/test splitting."
   ]
  },
  {
   "cell_type": "code",
   "execution_count": 18,
   "metadata": {},
   "outputs": [],
   "source": [
    "## Training Using K-Fold Cross Validation"
   ]
  },
  {
   "cell_type": "code",
   "execution_count": 11,
   "metadata": {},
   "outputs": [
    {
     "name": "stdout",
     "output_type": "stream",
     "text": [
      "🚫 WARNING 🚫: this function will take time to process.\n",
      " \n",
      "Fold #1, Training Size: 119268, Validation Size: 29817\n",
      "Training Score: 0.6539641815071939\n",
      "Testig Score: 0.6539641815071939\n",
      "\n",
      "\n",
      "Fold #2, Training Size: 119268, Validation Size: 29817\n",
      "Training Score: 0.6553392360063052\n",
      "Testig Score: 0.6553392360063052\n",
      "\n",
      "\n",
      "Fold #3, Training Size: 119268, Validation Size: 29817\n",
      "Training Score: 0.653830029848744\n",
      "Testig Score: 0.653830029848744\n",
      "\n",
      "\n",
      "Fold #4, Training Size: 119268, Validation Size: 29817\n",
      "Training Score: 0.6543330985679311\n",
      "Testig Score: 0.6543330985679311\n",
      "\n",
      "\n",
      "Fold #5, Training Size: 119268, Validation Size: 29817\n",
      "Training Score: 0.6547942448938525\n",
      "Testig Score: 0.6547942448938525\n",
      "\n",
      "\n"
     ]
    }
   ],
   "source": [
    "#Split the data, into a small testing set (test size 0.1), and large training set (that will be passed into K-cross validation)\n",
    "X_train_k, X_test_k, y_train_k, y_test_k = train_test_split(features, target, test_size=0.1, random_state=10)\n",
    "\n",
    "#Merging X_train and y_train into a single dataframe for K-cross validation utility function\n",
    "#Merging technique from: https://pandas.pydata.org/pandas-docs/stable/user_guide/merging.html\n",
    "frames = [X_train_k, y_train_k]\n",
    "k_fold_data = pd.concat(frames, axis=1)\n",
    "\n",
    "#K-cross validation on k_fold_binary_data \n",
    "ppn_kfold = Perceptron(max_iter=40,tol=0.001,eta0=1)\n",
    "util.k_fold_train(model=ppn_kfold, data=k_fold_data)"
   ]
  },
  {
   "cell_type": "code",
   "execution_count": 14,
   "metadata": {},
   "outputs": [
    {
     "data": {
      "image/png": "[encoded data removed]",
      "text/plain": [
       "<Figure size 1152x720 with 2 Axes>"
      ]
     },
     "metadata": {
      "needs_background": "light"
     },
     "output_type": "display_data"
    }
   ],
   "source": [
    "y_predict_k = ppn_kfold.predict(X_test_k)\n",
    "util.confusion_plot(y_test=y_test_k, y_predictions=y_predict_k)"
   ]
  },
  {
   "cell_type": "code",
   "execution_count": 21,
   "metadata": {},
   "outputs": [],
   "source": [
    "## These results are much better, however upon analysing the confusion matrix there is now significantly bias to predicting nothing."
   ]
  },
  {
   "cell_type": "code",
   "execution_count": 24,
   "metadata": {},
   "outputs": [],
   "source": [
    "## Split target into \"Police Action\" (1) and \"No Action\" (0)\n",
    "## I will try to repeat the above process, but instead of the target being split into eight classes, I split it into two: either there was police action after the stop and search, or there wasn't."
   ]
  },
  {
   "cell_type": "code",
   "execution_count": 25,
   "metadata": {},
   "outputs": [
    {
     "data": {
      "text/html": [
       "<div>\n",
       "<style scoped>\n",
       "    .dataframe tbody tr th:only-of-type {\n",
       "        vertical-align: middle;\n",
       "    }\n",
       "\n",
       "    .dataframe tbody tr th {\n",
       "        vertical-align: top;\n",
       "    }\n",
       "\n",
       "    .dataframe thead th {\n",
       "        text-align: right;\n",
       "    }\n",
       "</style>\n",
       "<table border=\"1\" class=\"dataframe\">\n",
       "  <thead>\n",
       "    <tr style=\"text-align: right;\">\n",
       "      <th></th>\n",
       "      <th>Type</th>\n",
       "      <th>Date</th>\n",
       "      <th>Latitude</th>\n",
       "      <th>Longitude</th>\n",
       "      <th>Gender</th>\n",
       "      <th>Age range</th>\n",
       "      <th>Officer-defined ethnicity</th>\n",
       "      <th>Legislation</th>\n",
       "      <th>Object of search</th>\n",
       "      <th>Outcome</th>\n",
       "    </tr>\n",
       "  </thead>\n",
       "  <tbody>\n",
       "    <tr>\n",
       "      <th>0</th>\n",
       "      <td>Person search</td>\n",
       "      <td>2015-03-02 16:40:00+00:00</td>\n",
       "      <td>51.512286</td>\n",
       "      <td>-0.114491</td>\n",
       "      <td>Male</td>\n",
       "      <td>25-34</td>\n",
       "      <td>Asian</td>\n",
       "      <td>Police and Criminal Evidence Act 1984 (section 1)</td>\n",
       "      <td>Stolen goods</td>\n",
       "      <td>1</td>\n",
       "    </tr>\n",
       "    <tr>\n",
       "      <th>1</th>\n",
       "      <td>Person search</td>\n",
       "      <td>2015-03-02 16:40:00+00:00</td>\n",
       "      <td>51.512286</td>\n",
       "      <td>-0.114491</td>\n",
       "      <td>Male</td>\n",
       "      <td>25-34</td>\n",
       "      <td>Asian</td>\n",
       "      <td>Police and Criminal Evidence Act 1984 (section 1)</td>\n",
       "      <td>Stolen goods</td>\n",
       "      <td>1</td>\n",
       "    </tr>\n",
       "    <tr>\n",
       "      <th>2</th>\n",
       "      <td>Person search</td>\n",
       "      <td>2015-03-02 18:45:00+00:00</td>\n",
       "      <td>51.512286</td>\n",
       "      <td>-0.114491</td>\n",
       "      <td>Male</td>\n",
       "      <td>25-34</td>\n",
       "      <td>White</td>\n",
       "      <td>Police and Criminal Evidence Act 1984 (section 1)</td>\n",
       "      <td>Stolen goods</td>\n",
       "      <td>1</td>\n",
       "    </tr>\n",
       "    <tr>\n",
       "      <th>4</th>\n",
       "      <td>Person and Vehicle search</td>\n",
       "      <td>2015-03-03 15:50:00+00:00</td>\n",
       "      <td>51.512286</td>\n",
       "      <td>-0.114491</td>\n",
       "      <td>Male</td>\n",
       "      <td>25-34</td>\n",
       "      <td>White</td>\n",
       "      <td>Police and Criminal Evidence Act 1984 (section 1)</td>\n",
       "      <td>Stolen goods</td>\n",
       "      <td>1</td>\n",
       "    </tr>\n",
       "    <tr>\n",
       "      <th>5</th>\n",
       "      <td>Person search</td>\n",
       "      <td>2015-03-03 20:20:00+00:00</td>\n",
       "      <td>51.512286</td>\n",
       "      <td>-0.114491</td>\n",
       "      <td>Male</td>\n",
       "      <td>25-34</td>\n",
       "      <td>Asian</td>\n",
       "      <td>Misuse of Drugs Act 1971 (section 23)</td>\n",
       "      <td>Controlled drugs</td>\n",
       "      <td>0</td>\n",
       "    </tr>\n",
       "  </tbody>\n",
       "</table>\n",
       "</div>"
      ],
      "text/plain": [
       "                        Type                      Date   Latitude  Longitude  \\\n",
       "0              Person search 2015-03-02 16:40:00+00:00  51.512286  -0.114491   \n",
       "1              Person search 2015-03-02 16:40:00+00:00  51.512286  -0.114491   \n",
       "2              Person search 2015-03-02 18:45:00+00:00  51.512286  -0.114491   \n",
       "4  Person and Vehicle search 2015-03-03 15:50:00+00:00  51.512286  -0.114491   \n",
       "5              Person search 2015-03-03 20:20:00+00:00  51.512286  -0.114491   \n",
       "\n",
       "  Gender Age range Officer-defined ethnicity  \\\n",
       "0   Male     25-34                     Asian   \n",
       "1   Male     25-34                     Asian   \n",
       "2   Male     25-34                     White   \n",
       "4   Male     25-34                     White   \n",
       "5   Male     25-34                     Asian   \n",
       "\n",
       "                                         Legislation  Object of search  \\\n",
       "0  Police and Criminal Evidence Act 1984 (section 1)      Stolen goods   \n",
       "1  Police and Criminal Evidence Act 1984 (section 1)      Stolen goods   \n",
       "2  Police and Criminal Evidence Act 1984 (section 1)      Stolen goods   \n",
       "4  Police and Criminal Evidence Act 1984 (section 1)      Stolen goods   \n",
       "5              Misuse of Drugs Act 1971 (section 23)  Controlled drugs   \n",
       "\n",
       "   Outcome  \n",
       "0        1  \n",
       "1        1  \n",
       "2        1  \n",
       "4        1  \n",
       "5        0  "
      ]
     },
     "execution_count": 25,
     "metadata": {},
     "output_type": "execute_result"
    }
   ],
   "source": [
    "#Replace all values in Outcome column, with 0 if \"Nothing found - no further action\", else 1.\n",
    "# Reference for dictionary idea to replace values: https://stackoverflow.com/questions/17114904/python-pandas-replacing-strings-in-dataframe-with-numbers\n",
    "outcome_splitter = {\n",
    "    \"Nothing found - no further action\": 0, \n",
    "    \"Article found - Detailed outcome unavailable\": 1, \n",
    "    \"Local resolution\": 1,\n",
    "    \"Offender cautioned\": 1,\n",
    "    \"Offender given drugs possession warning\": 1,\n",
    "    \"Offender given penalty notice\": 1,\n",
    "    \"Suspect arrested\": 1,\n",
    "    \"Suspect summonsed to court\": 1\n",
    "    }\n",
    "data_binary = data.applymap(lambda s: outcome_splitter.get(s) if s in outcome_splitter else s)\n",
    "data_binary.head()"
   ]
  },
  {
   "cell_type": "code",
   "execution_count": 26,
   "metadata": {},
   "outputs": [
    {
     "name": "stdout",
     "output_type": "stream",
     "text": [
      "{'Type Encoder': LabelEncoder(), 'Date Encoder': LabelEncoder(), 'Gender Encoder': LabelEncoder(), 'Age range Encoder': LabelEncoder(), 'Officer-defined ethnicity Encoder': LabelEncoder(), 'Legislation Encoder': LabelEncoder(), 'Object of search Encoder': LabelEncoder(), 'Outcome Encoder': LabelEncoder()}\n"
     ]
    },
    {
     "data": {
      "text/html": [
       "<div>\n",
       "<style scoped>\n",
       "    .dataframe tbody tr th:only-of-type {\n",
       "        vertical-align: middle;\n",
       "    }\n",
       "\n",
       "    .dataframe tbody tr th {\n",
       "        vertical-align: top;\n",
       "    }\n",
       "\n",
       "    .dataframe thead th {\n",
       "        text-align: right;\n",
       "    }\n",
       "</style>\n",
       "<table border=\"1\" class=\"dataframe\">\n",
       "  <thead>\n",
       "    <tr style=\"text-align: right;\">\n",
       "      <th></th>\n",
       "      <th>Type</th>\n",
       "      <th>Date</th>\n",
       "      <th>Latitude</th>\n",
       "      <th>Longitude</th>\n",
       "      <th>Gender</th>\n",
       "      <th>Age range</th>\n",
       "      <th>Officer-defined ethnicity</th>\n",
       "      <th>Legislation</th>\n",
       "      <th>Object of search</th>\n",
       "      <th>Outcome</th>\n",
       "    </tr>\n",
       "  </thead>\n",
       "  <tbody>\n",
       "    <tr>\n",
       "      <th>0</th>\n",
       "      <td>1</td>\n",
       "      <td>0</td>\n",
       "      <td>51.512286</td>\n",
       "      <td>-0.114491</td>\n",
       "      <td>1</td>\n",
       "      <td>1</td>\n",
       "      <td>0</td>\n",
       "      <td>4</td>\n",
       "      <td>8</td>\n",
       "      <td>1</td>\n",
       "    </tr>\n",
       "    <tr>\n",
       "      <th>1</th>\n",
       "      <td>1</td>\n",
       "      <td>0</td>\n",
       "      <td>51.512286</td>\n",
       "      <td>-0.114491</td>\n",
       "      <td>1</td>\n",
       "      <td>1</td>\n",
       "      <td>0</td>\n",
       "      <td>4</td>\n",
       "      <td>8</td>\n",
       "      <td>1</td>\n",
       "    </tr>\n",
       "    <tr>\n",
       "      <th>2</th>\n",
       "      <td>1</td>\n",
       "      <td>1</td>\n",
       "      <td>51.512286</td>\n",
       "      <td>-0.114491</td>\n",
       "      <td>1</td>\n",
       "      <td>1</td>\n",
       "      <td>4</td>\n",
       "      <td>4</td>\n",
       "      <td>8</td>\n",
       "      <td>1</td>\n",
       "    </tr>\n",
       "    <tr>\n",
       "      <th>4</th>\n",
       "      <td>0</td>\n",
       "      <td>2</td>\n",
       "      <td>51.512286</td>\n",
       "      <td>-0.114491</td>\n",
       "      <td>1</td>\n",
       "      <td>1</td>\n",
       "      <td>4</td>\n",
       "      <td>4</td>\n",
       "      <td>8</td>\n",
       "      <td>1</td>\n",
       "    </tr>\n",
       "    <tr>\n",
       "      <th>5</th>\n",
       "      <td>1</td>\n",
       "      <td>3</td>\n",
       "      <td>51.512286</td>\n",
       "      <td>-0.114491</td>\n",
       "      <td>1</td>\n",
       "      <td>1</td>\n",
       "      <td>0</td>\n",
       "      <td>3</td>\n",
       "      <td>3</td>\n",
       "      <td>0</td>\n",
       "    </tr>\n",
       "  </tbody>\n",
       "</table>\n",
       "</div>"
      ],
      "text/plain": [
       "   Type  Date   Latitude  Longitude  Gender  Age range  \\\n",
       "0     1     0  51.512286  -0.114491       1          1   \n",
       "1     1     0  51.512286  -0.114491       1          1   \n",
       "2     1     1  51.512286  -0.114491       1          1   \n",
       "4     0     2  51.512286  -0.114491       1          1   \n",
       "5     1     3  51.512286  -0.114491       1          1   \n",
       "\n",
       "   Officer-defined ethnicity  Legislation  Object of search  Outcome  \n",
       "0                          0            4                 8        1  \n",
       "1                          0            4                 8        1  \n",
       "2                          4            4                 8        1  \n",
       "4                          4            4                 8        1  \n",
       "5                          0            3                 3        0  "
      ]
     },
     "execution_count": 26,
     "metadata": {},
     "output_type": "execute_result"
    }
   ],
   "source": [
    "data_binary_encoded, encoders_binary = util.data_encoder(data_binary)\n",
    "\n",
    "print(encoders_binary)\n",
    "data_binary_encoded.head()"
   ]
  },
  {
   "cell_type": "code",
   "execution_count": 27,
   "metadata": {},
   "outputs": [
    {
     "name": "stdout",
     "output_type": "stream",
     "text": [
      "🚫 WARNING 🚫: this function will take time to process.\n",
      " \n",
      "Fold #1, Training Size: 119268, Validation Size: 29817\n",
      "Training Score: 0.34668142334909613\n",
      "Testig Score: 0.34668142334909613\n",
      "\n",
      "\n",
      "Fold #2, Training Size: 119268, Validation Size: 29817\n",
      "Training Score: 0.6553392360063052\n",
      "Testig Score: 0.6553392360063052\n",
      "\n",
      "\n",
      "Fold #3, Training Size: 119268, Validation Size: 29817\n",
      "Training Score: 0.653830029848744\n",
      "Testig Score: 0.653830029848744\n",
      "\n",
      "\n",
      "Fold #4, Training Size: 119268, Validation Size: 29817\n",
      "Training Score: 0.6543330985679311\n",
      "Testig Score: 0.6543330985679311\n",
      "\n",
      "\n",
      "Fold #5, Training Size: 119268, Validation Size: 29817\n",
      "Training Score: 0.3453566757219036\n",
      "Testig Score: 0.3453566757219036\n",
      "\n",
      "\n"
     ]
    }
   ],
   "source": [
    "# Split into features and target\n",
    "target_binary = data_binary_encoded[\"Outcome\"]\n",
    "features_binary = data_binary_encoded.drop('Outcome', axis=1)\n",
    "\n",
    "#Split the data, into a small testing set (test size 0.1), and large training set (that will be passed into K-cross validation)\n",
    "X_train_binary_k, X_test_binary_k, y_train_binary_k, y_test_binary_k = train_test_split(features_binary, target_binary, test_size=0.1, random_state=10)\n",
    "\n",
    "#Merging X_train and y_train into a single dataframe for K-cross validation utility function\n",
    "#Merging technique from: https://pandas.pydata.org/pandas-docs/stable/user_guide/merging.html\n",
    "frames = [X_train_binary_k, y_train_binary_k]\n",
    "k_fold_binary_data = pd.concat(frames, axis=1)\n",
    "\n",
    "#K-cross validation on k_fold_binary_data \n",
    "pnn_binary_kfold = Perceptron(max_iter=40,tol=0.001,eta0=1)\n",
    "util.k_fold_train(model=pnn_binary_kfold, data=k_fold_binary_data)"
   ]
  },
  {
   "cell_type": "code",
   "execution_count": 34,
   "metadata": {},
   "outputs": [],
   "source": [
    "##It seems this did not yield better results as Fold #1 and Fold #5 had much lower training and testing scores. "
   ]
  },
  {
   "cell_type": "code",
   "execution_count": 29,
   "metadata": {},
   "outputs": [
    {
     "data": {
      "image/png": "[encoded data removed]",
      "text/plain": [
       "<Figure size 1152x720 with 2 Axes>"
      ]
     },
     "metadata": {
      "needs_background": "light"
     },
     "output_type": "display_data"
    }
   ],
   "source": [
    "y_predict_binary_k = pnn_binary_kfold.predict(X_test_binary_k)\n",
    "util.confusion_plot(y_test=y_test_binary_k, y_predictions=y_predict_binary_k, target_classes=[0, 1])"
   ]
  },
  {
   "cell_type": "code",
   "execution_count": 35,
   "metadata": {},
   "outputs": [],
   "source": [
    "#The confusion matrix illustrates a large bias towards false negatives."
   ]
  },
  {
   "cell_type": "code",
   "execution_count": null,
   "metadata": {},
   "outputs": [],
   "source": []
  }
 ],
 "metadata": {
  "kernelspec": {
   "display_name": "Python 3",
   "language": "python",
   "name": "python3"
  },
  "language_info": {
   "codemirror_mode": {
    "name": "ipython",
    "version": 3
   },
   "file_extension": ".py",
   "mimetype": "text/x-python",
   "name": "python",
   "nbconvert_exporter": "python",
   "pygments_lexer": "ipython3",
   "version": "3.8.3"
  }
 },
 "nbformat": 4,
 "nbformat_minor": 4
}
